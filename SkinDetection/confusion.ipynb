{
 "cells": [
  {
   "cell_type": "code",
   "execution_count": 1,
   "metadata": {},
   "outputs": [],
   "source": [
    "import os\n",
    "import numpy as np\n",
    "import cv2\n",
    "import imageio.v2 as imageio\n",
    "import matplotlib.pyplot as plt"
   ]
  },
  {
   "cell_type": "code",
   "execution_count": 18,
   "metadata": {},
   "outputs": [],
   "source": [
    "# list all the files in the dataset directory\n",
    "mask_path = \"/home/asif/DBMS-II/SkinDetection/Mask\"\n",
    "non_mask_path = \"/home/asif/DBMS-II/SkinDetection/NonMask\"\n",
    "mask_list = os.listdir(mask_path) # skin\n",
    "non_mask_list = os.listdir(non_mask_path) # non skin"
   ]
  },
  {
   "cell_type": "code",
   "execution_count": 19,
   "metadata": {},
   "outputs": [],
   "source": [
    "# to randomize and shuffel the lists indices\n",
    "import random\n",
    "random.seed(5)"
   ]
  },
  {
   "cell_type": "code",
   "execution_count": 30,
   "metadata": {},
   "outputs": [],
   "source": [
    "number_of_train_images = 50\n",
    "number_of_test_images = 10\n",
    "indices = [\"%04d\" % x for x in range(number_of_train_images)]"
   ]
  },
  {
   "cell_type": "code",
   "execution_count": 31,
   "metadata": {},
   "outputs": [],
   "source": [
    "TP = []\n",
    "TN = []\n",
    "FP = []\n",
    "FN = []"
   ]
  },
  {
   "cell_type": "code",
   "execution_count": 35,
   "metadata": {},
   "outputs": [
    {
     "name": "stdout",
     "output_type": "stream",
     "text": [
      "Image  0  - DONE!\n",
      "Image  1  - DONE!\n",
      "Image  2  - DONE!\n",
      "Image  3  - DONE!\n",
      "Image  4  - DONE!\n",
      "Image  5  - DONE!\n",
      "Image  6  - DONE!\n",
      "Image  7  - DONE!\n",
      "Image  8  - DONE!\n",
      "Image  9  - DONE!\n",
      "Image  10  - DONE!\n",
      "Image  11  - DONE!\n",
      "Image  12  - DONE!\n",
      "Image  13  - DONE!\n",
      "Image  14  - DONE!\n",
      "Image  15  - DONE!\n",
      "Image  16  - DONE!\n",
      "Image  17  - DONE!\n",
      "Image  18  - DONE!\n",
      "Image  19  - DONE!\n",
      "Image  20  - DONE!\n",
      "Image  21  - DONE!\n",
      "Image  22  - DONE!\n",
      "Image  23  - DONE!\n",
      "Image  24  - DONE!\n",
      "Image  25  - DONE!\n",
      "Image  26  - DONE!\n",
      "Image  27  - DONE!\n",
      "Image  28  - DONE!\n",
      "Image  29  - DONE!\n",
      "Image  30  - DONE!\n",
      "Image  31  - DONE!\n",
      "Image  32  - DONE!\n",
      "Image  33  - DONE!\n",
      "Image  34  - DONE!\n",
      "Image  35  - DONE!\n",
      "Image  36  - DONE!\n",
      "Image  37  - DONE!\n",
      "Image  38  - DONE!\n",
      "Image  39  - DONE!\n",
      "Image  40  - DONE!\n",
      "Image  41  - DONE!\n",
      "Image  42  - DONE!\n",
      "Image  43  - DONE!\n",
      "Image  44  - DONE!\n",
      "Image  45  - DONE!\n",
      "Image  46  - DONE!\n",
      "Image  47  - DONE!\n",
      "Image  48  - DONE!\n",
      "Image  49  - DONE!\n",
      "Training 0 done\n"
     ]
    },
    {
     "ename": "IndexError",
     "evalue": "index 81 is out of bounds for axis 0 with size 3",
     "output_type": "error",
     "traceback": [
      "\u001b[0;31m---------------------------------------------------------------------------\u001b[0m",
      "\u001b[0;31mIndexError\u001b[0m                                Traceback (most recent call last)",
      "Cell \u001b[0;32mIn[35], line 88\u001b[0m\n\u001b[1;32m     86\u001b[0m         false_non_skin \u001b[39m=\u001b[39m false_non_skin \u001b[39m+\u001b[39m \u001b[39m1\u001b[39m\n\u001b[1;32m     87\u001b[0m \u001b[39melse\u001b[39;00m: \u001b[39m# skin\u001b[39;00m\n\u001b[0;32m---> 88\u001b[0m     \u001b[39mif\u001b[39;00m test_mask_image[r][g][b] \u001b[39m<\u001b[39m \u001b[39m250\u001b[39m:\n\u001b[1;32m     89\u001b[0m         true_skin \u001b[39m=\u001b[39m true_skin \u001b[39m+\u001b[39m \u001b[39m1\u001b[39m\n\u001b[1;32m     90\u001b[0m     \u001b[39melse\u001b[39;00m:\n",
      "\u001b[0;31mIndexError\u001b[0m: index 81 is out of bounds for axis 0 with size 3"
     ]
    }
   ],
   "source": [
    "# we will do crossfold validation\n",
    "# we will 10 fold and will do 90% for training and 10% for testing\n",
    "\n",
    "for i in range(2):\n",
    "    random.shuffle(indices)\n",
    "\n",
    "    # first train the training set\n",
    "    n = 256\n",
    "    skinPixel = np.zeros(shape=(n, n, n))\n",
    "    nonSkinPixel = np.zeros(shape=(n, n, n))\n",
    "    skinPixelSum = 0\n",
    "    nonSkinPixelSum = 0\n",
    "    skinProbability = np.zeros(shape=(n, n, n))\n",
    "    nonSkinProbability = np.zeros(shape=(n, n, n))\n",
    "    learning_ratio = np.zeros(shape=(n, n, n)) \n",
    "\n",
    "    for index in range(len(indices)):\n",
    "        mask_image = cv2.imread(\"/home/asif/DBMS-II/SkinDetection/Mask/\"+str(indices[index])+\".bmp\")\n",
    "        unmask_image = cv2.imread(\"/home/asif/DBMS-II/SkinDetection/NonMask/\"+str(indices[index])+\".jpg\")\n",
    "\n",
    "        height, width, channel = mask_image.shape\n",
    "\n",
    "        for x in range(height):\n",
    "            for y in range(width):\n",
    "                blue = mask_image[x, y, 0]\n",
    "                green = mask_image[x, y, 1]\n",
    "                red = mask_image[x, y, 2]\n",
    "\n",
    "                if (blue > 250 and green > 250 and red > 250):  \n",
    "                    blue = unmask_image[x, y, 0]\n",
    "                    green = unmask_image[x, y, 1]\n",
    "                    red = unmask_image[x, y, 2]\n",
    "\n",
    "                    nonSkinPixel[red, green, blue] += 1\n",
    "                    nonSkinPixelSum += 1\n",
    "                else:\n",
    "                    skinPixel[red, green, blue] += 1\n",
    "                    skinPixelSum += 1\n",
    "\n",
    "        print(\"Image \", index, \" - DONE!\")\n",
    "    \n",
    "    # now calculate the probabilities\n",
    "    for r in range(n):\n",
    "        for g in range(n):\n",
    "            for b in range(n):\n",
    "                skinProbability[r, g, b] = skinPixel[r, g, b]/skinPixelSum\n",
    "                nonSkinProbability[r, g, b] = nonSkinPixel[r, g, b]/nonSkinPixelSum\n",
    "\n",
    "                if (nonSkinPixel[r, g, b] != 0):\n",
    "                    learning_ratio[r, g, b] = skinProbability[r, g, b] / nonSkinProbability[r, g, b]\n",
    "                else:\n",
    "                    learning_ratio[r, g, b] = 0.0\n",
    "\n",
    "    print(\"Training \"+str(i)+\" done\")\n",
    "\n",
    "    # now test\n",
    "    T = 0.4\n",
    "    true_skin = 0\n",
    "    true_non_skin = 0\n",
    "    false_skin = 0\n",
    "    false_non_skin = 0\n",
    "\n",
    "    for index in range(500, 511):\n",
    "        test_non_mask_image_path = \"/home/asif/DBMS-II/SkinDetection/NonMask/0\"+str(index)+\".jpg\"\n",
    "        #test_image = cv2.imread(test_image_path)\n",
    "        test_non_mask_image = imageio.imread(test_non_mask_image_path)\n",
    "        height, width, channel = test_non_mask_image.shape \n",
    "\n",
    "        test_mask_image_path = \"/home/asif/DBMS-II/SkinDetection/Mask/0\"+str(index)+\".bmp\"\n",
    "        test_mask_image = imageio.imread(test_mask_image_path)\n",
    "\n",
    "        for x in range(height):\n",
    "            for y in range(width):\n",
    "                r=test_non_mask_image[x][y][0]\n",
    "                g=test_non_mask_image[x][y][1]\n",
    "                b=test_non_mask_image[x][y][2]\n",
    "                \n",
    "                red =test_mask_image[x][y][0]\n",
    "                green =test_mask_image[x][y][1]\n",
    "                blue =test_mask_image[x][y][2]\n",
    "\n",
    "                if abs(learning_ratio[r][g][b])<T:  # non skin\n",
    "                    if red>250 and green>250 and blue>250:\n",
    "                        true_non_skin = true_non_skin + 1\n",
    "                    else:\n",
    "                        false_non_skin = false_non_skin + 1\n",
    "                else: # skin\n",
    "                    if  red<250 and green<250 and blue<250:\n",
    "                        true_skin = true_skin + 1\n",
    "                    else:\n",
    "                        false_skin = false_skin + 1\n",
    "    \n",
    "\n",
    "    #print\n",
    "    print(true_skin, false_skin, true_non_skin, false_non_skin)\n",
    "    # now store the results in file\n",
    "    TP.append(true_skin)\n",
    "    TN.append(true_non_skin)\n",
    "    FP.append(false_skin)\n",
    "    FN.append(false_non_skin)\n",
    "\n",
    "# Now store the results in file\n",
    "with open('TP.txt', 'w') as filehandle:\n",
    "    for listitem in TP:\n",
    "        filehandle.write(f'{listitem}\\n')\n",
    "\n",
    "with open('TN.txt', 'w') as filehandle:\n",
    "    for listitem in TN:\n",
    "        filehandle.write(f'{listitem}\\n')\n",
    "\n",
    "with open('FP.txt', 'w') as filehandle:\n",
    "    for listitem in FP:\n",
    "        filehandle.write(f'{listitem}\\n')\n",
    "\n",
    "with open('FN.txt', 'w') as filehandle:\n",
    "    for listitem in FN:\n",
    "        filehandle.write(f'{listitem}\\n')\n"
   ]
  },
  {
   "cell_type": "code",
   "execution_count": 20,
   "metadata": {},
   "outputs": [
    {
     "name": "stdout",
     "output_type": "stream",
     "text": [
      "['0427.bmp', '0108.bmp', '0472.bmp', '0270.bmp', '0304.bmp', '0182.bmp', '0444.bmp', '0052.bmp', '0018.bmp', '0510.bmp', '0430.bmp', '0110.bmp', '0234.bmp', '0190.bmp', '0120.bmp', '0082.bmp', '0249.bmp', '0392.bmp', '0260.bmp', '0410.bmp', '0101.bmp', '0363.bmp', '0299.bmp', '0051.bmp', '0203.bmp', '0492.bmp', '0361.bmp', '0275.bmp', '0337.bmp', '0214.bmp', '0432.bmp', '0321.bmp', '0395.bmp', '0535.bmp', '0146.bmp', '0327.bmp', '0186.bmp', '0507.bmp', '0183.bmp', '0039.bmp', '0358.bmp', '0377.bmp', '0476.bmp', '0123.bmp', '0478.bmp', '0202.bmp', '0445.bmp', '0001.bmp', '0085.bmp', '0528.bmp', '0330.bmp', '0168.bmp', '0367.bmp', '0389.bmp', '0291.bmp', '0060.bmp', '0477.bmp', '0353.bmp', '0208.bmp', '0175.bmp', '0538.bmp', '0317.bmp', '0122.bmp', '0178.bmp', '0311.bmp', '0237.bmp', '0475.bmp', '0518.bmp', '0313.bmp', '0131.bmp', '0352.bmp', '0530.bmp', '0296.bmp', '0134.bmp', '0396.bmp', '0407.bmp', '0474.bmp', '0117.bmp', '0107.bmp', '0387.bmp', '0184.bmp', '0161.bmp', '0457.bmp', '0174.bmp', '0030.bmp', '0193.bmp', '0464.bmp', '0418.bmp', '0005.bmp', '0371.bmp', '0534.bmp', '0280.bmp', '0314.bmp', '0008.bmp', '0187.bmp', '0286.bmp', '0088.bmp', '0289.bmp', '0216.bmp', '0287.bmp', '0116.bmp', '0503.bmp', '0336.bmp', '0339.bmp', '0056.bmp', '0081.bmp', '0125.bmp', '0024.bmp', '0165.bmp', '0128.bmp', '0366.bmp', '0386.bmp', '0322.bmp', '0429.bmp', '0281.bmp', '0139.bmp', '0342.bmp', '0228.bmp', '0288.bmp', '0084.bmp', '0437.bmp', '0138.bmp', '0257.bmp', '0177.bmp', '0326.bmp', '0428.bmp', '0243.bmp', '0170.bmp', '0272.bmp', '0509.bmp', '0049.bmp', '0032.bmp', '0294.bmp', '0227.bmp', '0102.bmp', '0097.bmp', '0450.bmp', '0532.bmp', '0188.bmp', '0053.bmp', '0090.bmp', '0033.bmp', '0470.bmp', '0238.bmp', '0285.bmp', '0221.bmp', '0043.bmp', '0223.bmp', '0115.bmp', '0301.bmp', '0010.bmp', '0297.bmp', '0542.bmp', '0213.bmp', '0376.bmp', '0513.bmp', '0083.bmp', '0298.bmp', '0019.bmp', '0419.bmp', '0016.bmp', '0461.bmp', '0341.bmp', '0002.bmp', '0316.bmp', '0382.bmp', '0369.bmp', '0150.bmp', '0145.bmp', '0397.bmp', '0147.bmp', '0468.bmp', '0284.bmp', '0255.bmp', '0372.bmp', '0261.bmp', '0359.bmp', '0440.bmp', '0511.bmp', '0073.bmp', '0524.bmp', '0318.bmp', '0269.bmp', '0058.bmp', '0451.bmp', '0293.bmp', '0009.bmp', '0531.bmp', '0412.bmp', '0416.bmp', '0508.bmp', '0198.bmp', '0149.bmp', '0132.bmp', '0022.bmp', '0040.bmp', '0077.bmp', '0469.bmp', '0553.bmp', '0491.bmp', '0169.bmp', '0388.bmp', '0204.bmp', '0142.bmp', '0384.bmp', '0215.bmp', '0015.bmp', '0211.bmp', '0119.bmp', '0153.bmp', '0121.bmp', '0527.bmp', '0400.bmp', '0240.bmp', '0480.bmp', '0471.bmp', '0333.bmp', '0248.bmp', '0517.bmp', '0127.bmp', '0092.bmp', '0499.bmp', '0236.bmp', '0105.bmp', '0459.bmp', '0071.bmp', '0520.bmp', '0144.bmp', '0345.bmp', '0267.bmp', '0498.bmp', '0167.bmp', '0500.bmp', '0399.bmp', '0189.bmp', '0212.bmp', '0325.bmp', '0224.bmp', '0484.bmp', '0519.bmp', '0023.bmp', '0252.bmp', '0076.bmp', '0439.bmp', '0540.bmp', '0135.bmp', '0253.bmp', '0533.bmp', '0543.bmp', '0103.bmp', '0324.bmp', '0148.bmp', '0354.bmp', '0231.bmp', '0046.bmp', '0548.bmp', '0541.bmp', '0347.bmp', '0247.bmp', '0219.bmp', '0487.bmp', '0302.bmp', '0295.bmp', '0549.bmp', '0044.bmp', '0312.bmp', '0460.bmp', '0220.bmp', '0048.bmp', '0045.bmp', '0020.bmp', '0539.bmp', '0200.bmp', '0014.bmp', '0251.bmp', '0136.bmp', '0334.bmp', '0029.bmp', '0348.bmp', '0239.bmp', '0446.bmp', '0421.bmp', '0129.bmp', '0404.bmp', '0171.bmp', '0463.bmp', '0160.bmp', '0405.bmp', '0423.bmp', '0137.bmp', '0031.bmp', '0158.bmp', '0065.bmp', '0515.bmp', '0246.bmp', '0551.bmp', '0217.bmp', '0442.bmp', '0283.bmp', '0435.bmp', '0006.bmp', '0050.bmp', '0266.bmp', '0393.bmp', '0378.bmp', '0054.bmp', '0362.bmp', '0196.bmp', '0319.bmp', '0529.bmp', '0079.bmp', '0007.bmp', '0104.bmp', '0003.bmp', '0413.bmp', '0453.bmp', '0426.bmp', '0263.bmp', '0271.bmp', '0456.bmp', '0086.bmp', '0308.bmp', '0481.bmp', '0075.bmp', '0106.bmp', '0365.bmp', '0140.bmp', '0305.bmp', '0346.bmp', '0112.bmp', '0303.bmp', '0433.bmp', '0385.bmp', '0066.bmp', '0017.bmp', '0210.bmp', '0038.bmp', '0264.bmp', '0041.bmp', '0180.bmp', '0244.bmp', '0042.bmp', '0100.bmp', '0473.bmp', '0254.bmp', '0483.bmp', '0282.bmp', '0021.bmp', '0181.bmp', '0401.bmp', '0455.bmp', '0233.bmp', '0306.bmp', '0245.bmp', '0482.bmp', '0493.bmp', '0390.bmp', '0225.bmp', '0226.bmp', '0069.bmp', '0152.bmp', '0130.bmp', '0004.bmp', '0111.bmp', '0403.bmp', '0094.bmp', '0546.bmp', '0241.bmp', '0338.bmp', '0093.bmp', '0373.bmp', '0098.bmp', '0025.bmp', '0516.bmp', '0383.bmp', '0265.bmp', '0466.bmp', '0037.bmp', '0256.bmp', '0443.bmp', '0268.bmp', '0096.bmp', '0357.bmp', '0424.bmp', '0431.bmp', '0162.bmp', '0195.bmp', '0523.bmp', '0496.bmp', '0036.bmp', '0436.bmp', '0172.bmp', '0320.bmp', '0235.bmp', '0505.bmp', '0344.bmp', '0055.bmp', '0109.bmp', '0310.bmp', '0408.bmp', '0374.bmp', '0554.bmp', '0124.bmp', '0154.bmp', '0141.bmp', '0278.bmp', '0375.bmp', '0118.bmp', '0091.bmp', '0156.bmp', '0547.bmp', '0290.bmp', '0307.bmp', '0504.bmp', '0034.bmp', '0059.bmp', '0163.bmp', '0207.bmp', '0191.bmp', '0329.bmp', '0415.bmp', '0173.bmp', '0192.bmp', '0197.bmp', '0452.bmp', '0364.bmp', '0126.bmp', '0185.bmp', '0521.bmp', '0488.bmp', '0494.bmp', '0522.bmp', '0061.bmp', '0012.bmp', '0276.bmp', '0479.bmp', '0458.bmp', '0315.bmp', '0199.bmp', '0467.bmp', '0273.bmp', '0502.bmp', '0441.bmp', '0391.bmp', '0402.bmp', '0490.bmp', '0064.bmp', '0340.bmp', '0409.bmp', '0072.bmp', '0379.bmp', '0063.bmp', '0512.bmp', '0309.bmp', '0370.bmp', '0406.bmp', '0323.bmp', '0230.bmp', '0222.bmp', '0027.bmp', '0047.bmp', '0011.bmp', '0176.bmp', '0143.bmp', '0438.bmp', '0057.bmp', '0166.bmp', '0552.bmp', '0489.bmp', '0368.bmp', '0485.bmp', '0420.bmp', '0194.bmp', '0026.bmp', '0274.bmp', '0544.bmp', '0242.bmp', '0078.bmp', '0232.bmp', '0250.bmp', '0486.bmp', '0300.bmp', '0113.bmp', '0497.bmp', '0332.bmp', '0062.bmp', '0205.bmp', '0417.bmp', '0229.bmp', '0179.bmp', '0277.bmp', '0159.bmp', '0218.bmp', '0335.bmp', '0331.bmp', '0258.bmp', '0545.bmp', '0013.bmp', '0350.bmp', '0394.bmp', '0462.bmp', '0151.bmp', '0449.bmp', '0328.bmp', '0095.bmp', '0526.bmp', '0157.bmp', '0000.bmp', '0550.bmp', '0349.bmp', '0279.bmp', '0067.bmp', '0356.bmp', '0068.bmp', '0262.bmp', '0133.bmp', '0343.bmp', '0074.bmp', '0259.bmp', '0422.bmp', '0087.bmp', '0164.bmp', '0434.bmp', '0099.bmp', '0351.bmp', '0411.bmp', '0114.bmp', '0501.bmp', '0537.bmp', '0380.bmp', '0536.bmp', '0209.bmp', '0425.bmp', '0398.bmp', '0514.bmp', '0525.bmp', '0465.bmp', '0035.bmp', '0155.bmp', '0355.bmp', '0454.bmp', '0206.bmp', '0070.bmp', '0447.bmp', '0448.bmp', '0292.bmp', '0201.bmp', '0028.bmp', '0414.bmp', '0080.bmp', '0381.bmp', '0506.bmp', '0089.bmp', '0495.bmp', '0360.bmp']\n"
     ]
    }
   ],
   "source": [
    "\n",
    "print(mask_list)\n"
   ]
  }
 ],
 "metadata": {
  "kernelspec": {
   "display_name": "Python 3",
   "language": "python",
   "name": "python3"
  },
  "language_info": {
   "codemirror_mode": {
    "name": "ipython",
    "version": 3
   },
   "file_extension": ".py",
   "mimetype": "text/x-python",
   "name": "python",
   "nbconvert_exporter": "python",
   "pygments_lexer": "ipython3",
   "version": "3.8.10"
  },
  "orig_nbformat": 4,
  "vscode": {
   "interpreter": {
    "hash": "916dbcbb3f70747c44a77c7bcd40155683ae19c65e1c03b4aa3499c5328201f1"
   }
  }
 },
 "nbformat": 4,
 "nbformat_minor": 2
}
