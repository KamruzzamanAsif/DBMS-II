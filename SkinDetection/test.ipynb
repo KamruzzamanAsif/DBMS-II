{
 "cells": [
  {
   "cell_type": "code",
   "execution_count": 4,
   "metadata": {},
   "outputs": [],
   "source": [
    "import numpy as np\n",
    "from PIL import Image"
   ]
  },
  {
   "cell_type": "code",
   "execution_count": 2,
   "metadata": {},
   "outputs": [],
   "source": [
    "trained_value = np.zeros(shape=(256, 256, 256))\n",
    "fp = open('Outputs/learningPorbability.txt', 'r')\n",
    "\n",
    "for i in range(256):\n",
    "    for j in range(256):\n",
    "        for k in range(256):\n",
    "            val = fp.readline()\n",
    "            trained_value[i][j][k] = float(val)\n",
    "\n",
    "fp.close()"
   ]
  },
  {
   "cell_type": "code",
   "execution_count": 7,
   "metadata": {},
   "outputs": [],
   "source": [
    "T = 0.4\n",
    "test_image_path = \"/home/asif/DBMS-II/SkinDetection/NonMask//0000.jpg\"\n",
    "test_im = Image.open(test_image_path)\n",
    "test_pix = test_im.load()\n",
    "width, height = test_im.size \n",
    "\n",
    "for x in range(width):\n",
    "  for y in range(height):\n",
    "    r, g, b = test_pix[x, y]\n",
    "    if abs(trained_value[r][g][b])<T:  \n",
    "      test_pix[x, y] = 255, 255, 255"
   ]
  },
  {
   "cell_type": "code",
   "execution_count": 8,
   "metadata": {},
   "outputs": [],
   "source": [
    "test_im.save(\"Outputs/outputImage.png\")"
   ]
  }
 ],
 "metadata": {
  "kernelspec": {
   "display_name": "Python 3",
   "language": "python",
   "name": "python3"
  },
  "language_info": {
   "codemirror_mode": {
    "name": "ipython",
    "version": 3
   },
   "file_extension": ".py",
   "mimetype": "text/x-python",
   "name": "python",
   "nbconvert_exporter": "python",
   "pygments_lexer": "ipython3",
   "version": "3.10.6"
  },
  "orig_nbformat": 4,
  "vscode": {
   "interpreter": {
    "hash": "e7370f93d1d0cde622a1f8e1c04877d8463912d04d973331ad4851f04de6915a"
   }
  }
 },
 "nbformat": 4,
 "nbformat_minor": 2
}
