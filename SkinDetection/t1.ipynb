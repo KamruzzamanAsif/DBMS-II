{
 "cells": [
  {
   "cell_type": "code",
   "execution_count": 6,
   "metadata": {},
   "outputs": [],
   "source": [
    "import os\n",
    "import numpy as np\n",
    "import cv2\n",
    "import imageio.v2 as imageio\n",
    "import matplotlib.pyplot as plt"
   ]
  },
  {
   "cell_type": "code",
   "execution_count": 7,
   "metadata": {},
   "outputs": [],
   "source": [
    "number_of_train_images = 500\n",
    "number_of_test_images = 55\n",
    "indices = [\"%04d\" % x for x in range(number_of_train_images)]"
   ]
  },
  {
   "cell_type": "code",
   "execution_count": 8,
   "metadata": {},
   "outputs": [],
   "source": [
    "# first train the training set\n",
    "n = 256\n",
    "skinPixel = np.zeros(shape=(n, n, n))\n",
    "nonSkinPixel = np.zeros(shape=(n, n, n))\n",
    "skinPixelSum = 0\n",
    "nonSkinPixelSum = 0\n",
    "skinProbability = np.zeros(shape=(n, n, n))\n",
    "nonSkinProbability = np.zeros(shape=(n, n, n))\n",
    "learning_ratio = np.zeros(shape=(n, n, n)) "
   ]
  },
  {
   "cell_type": "code",
   "execution_count": null,
   "metadata": {},
   "outputs": [],
   "source": []
  },
  {
   "cell_type": "code",
   "execution_count": 16,
   "metadata": {},
   "outputs": [
    {
     "name": "stdout",
     "output_type": "stream",
     "text": [
      "None\n"
     ]
    },
    {
     "ename": "TypeError",
     "evalue": "'NoneType' object is not subscriptable",
     "output_type": "error",
     "traceback": [
      "\u001b[0;31m---------------------------------------------------------------------------\u001b[0m",
      "\u001b[0;31mTypeError\u001b[0m                                 Traceback (most recent call last)",
      "Cell \u001b[0;32mIn[16], line 15\u001b[0m\n\u001b[1;32m     12\u001b[0m red \u001b[39m=\u001b[39m mask_image[x, y, \u001b[39m2\u001b[39m]\n\u001b[1;32m     14\u001b[0m \u001b[39mif\u001b[39;00m (blue \u001b[39m>\u001b[39m \u001b[39m250\u001b[39m \u001b[39mand\u001b[39;00m green \u001b[39m>\u001b[39m \u001b[39m250\u001b[39m \u001b[39mand\u001b[39;00m red \u001b[39m>\u001b[39m \u001b[39m250\u001b[39m): \n\u001b[0;32m---> 15\u001b[0m     \u001b[39mprint\u001b[39m(unmask_image[x, y, \u001b[39m0\u001b[39;49m]) \n\u001b[1;32m     16\u001b[0m     blue \u001b[39m=\u001b[39m unmask_image[x, y, \u001b[39m0\u001b[39m]\n\u001b[1;32m     17\u001b[0m     green \u001b[39m=\u001b[39m unmask_image[x, y, \u001b[39m1\u001b[39m]\n",
      "\u001b[0;31mTypeError\u001b[0m: 'NoneType' object is not subscriptable"
     ]
    }
   ],
   "source": [
    "for index in range(len(indices)):\n",
    "    mask_image = cv2.imread(\"/home/asif/DBMS-II/SkinDetection/Mask/\"+str(indices[index])+\".bmp\")\n",
    "    unmask_image = cv2.imread(\"/home/asif/DBMS-II/SkinDetection/NonMask/\"+str(indices[index])+\".jpg\")\n",
    "    print(unmask_image)\n",
    "    height, width, channel = mask_image.shape\n",
    "\n",
    "    for x in range(height):\n",
    "        for y in range(width):\n",
    "            \n",
    "            blue = mask_image[x, y, 0]\n",
    "            green = mask_image[x, y, 1]\n",
    "            red = mask_image[x, y, 2]\n",
    "\n",
    "            if (blue > 250 and green > 250 and red > 250): \n",
    "                print(unmask_image[x, y, 0]) \n",
    "                blue = unmask_image[x, y, 0]\n",
    "                green = unmask_image[x, y, 1]\n",
    "                red = unmask_image[x, y, 2]\n",
    "\n",
    "                nonSkinPixel[red, green, blue] += 1\n",
    "                nonSkinPixelSum += 1\n",
    "            else:\n",
    "                skinPixel[red, green, blue] += 1\n",
    "                skinPixelSum += 1\n",
    "\n",
    "    print(\"Image \", index, \" - DONE!\")"
   ]
  },
  {
   "cell_type": "code",
   "execution_count": 23,
   "metadata": {},
   "outputs": [
    {
     "name": "stdout",
     "output_type": "stream",
     "text": [
      "/home/asif/DBMS-II/SkinDetection/NonMask/0500.jpg\n",
      "/home/asif/DBMS-II/SkinDetection/Mask/0500.bmp\n"
     ]
    },
    {
     "ename": "NameError",
     "evalue": "name 'true_non_skin' is not defined",
     "output_type": "error",
     "traceback": [
      "\u001b[0;31m---------------------------------------------------------------------------\u001b[0m",
      "\u001b[0;31mNameError\u001b[0m                                 Traceback (most recent call last)",
      "Cell \u001b[0;32mIn[23], line 25\u001b[0m\n\u001b[1;32m     22\u001b[0m blue \u001b[39m=\u001b[39mtest_mask_image[x][y][\u001b[39m2\u001b[39m]\n\u001b[1;32m     24\u001b[0m \u001b[39mif\u001b[39;00m red\u001b[39m>\u001b[39m\u001b[39m250\u001b[39m \u001b[39mand\u001b[39;00m green\u001b[39m>\u001b[39m\u001b[39m250\u001b[39m \u001b[39mand\u001b[39;00m blue\u001b[39m>\u001b[39m\u001b[39m250\u001b[39m:\n\u001b[0;32m---> 25\u001b[0m     true_non_skin \u001b[39m=\u001b[39m true_non_skin \u001b[39m+\u001b[39m \u001b[39m1\u001b[39m\n\u001b[1;32m     26\u001b[0m \u001b[39melse\u001b[39;00m:\n\u001b[1;32m     27\u001b[0m     false_non_skin \u001b[39m=\u001b[39m false_non_skin \u001b[39m+\u001b[39m \u001b[39m1\u001b[39m\n",
      "\u001b[0;31mNameError\u001b[0m: name 'true_non_skin' is not defined"
     ]
    }
   ],
   "source": [
    "for index in range(500, 511):\n",
    "        test_non_mask_image_path = \"/home/asif/DBMS-II/SkinDetection/NonMask/0\"+str(index)+\".jpg\"\n",
    "        #test_image = cv2.imread(test_image_path)\n",
    "        test_non_mask_image = imageio.imread(test_non_mask_image_path)\n",
    "        height, width, channel = test_non_mask_image.shape \n",
    "\n",
    "        print(test_non_mask_image_path)\n",
    "        print(test_mask_image_path)\n",
    "\n",
    "        test_mask_image_path = \"/home/asif/DBMS-II/SkinDetection/Mask/0\"+str(index)+\".bmp\"\n",
    "        test_mask_image = imageio.imread(test_mask_image_path)\n",
    "\n",
    "        for x in range(height):\n",
    "            for y in range(width):\n",
    "                r=test_non_mask_image[x][y][0]\n",
    "                g=test_non_mask_image[x][y][1]\n",
    "                b=test_non_mask_image[x][y][2]\n",
    "\n",
    "                if abs(learning_ratio[r][g][b])< 0.4:  # non skin\n",
    "                    red =test_mask_image[x][y][0]\n",
    "                    green =test_mask_image[x][y][1]\n",
    "                    blue =test_mask_image[x][y][2]\n",
    "\n",
    "                    if red>250 and green>250 and blue>250:\n",
    "                        true_non_skin = true_non_skin + 1\n",
    "                    else:\n",
    "                        false_non_skin = false_non_skin + 1\n",
    "                else: # skin\n",
    "                    if test_mask_image[r][g][b] < 250:\n",
    "                        true_skin = true_skin + 1\n",
    "                    else:\n",
    "                        false_skin = false_skin + 1"
   ]
  }
 ],
 "metadata": {
  "kernelspec": {
   "display_name": "Python 3",
   "language": "python",
   "name": "python3"
  },
  "language_info": {
   "codemirror_mode": {
    "name": "ipython",
    "version": 3
   },
   "file_extension": ".py",
   "mimetype": "text/x-python",
   "name": "python",
   "nbconvert_exporter": "python",
   "pygments_lexer": "ipython3",
   "version": "3.8.10"
  },
  "orig_nbformat": 4,
  "vscode": {
   "interpreter": {
    "hash": "916dbcbb3f70747c44a77c7bcd40155683ae19c65e1c03b4aa3499c5328201f1"
   }
  }
 },
 "nbformat": 4,
 "nbformat_minor": 2
}
