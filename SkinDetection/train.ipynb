{
 "cells": [
  {
   "cell_type": "code",
   "execution_count": 10,
   "metadata": {},
   "outputs": [],
   "source": [
    "dataSetPath = \"/home/asif/DBMS-II/SkinDetection/ibtd\"\n",
    "n = 256\n",
    "skinPixel = [[ [0 for col in range(n)] for col in range(n)] for row in range(n)] \n",
    "nonSkinPixel = [[ [0 for col in range(n)] for col in range(n)] for row in range(n)]\n",
    "learning_ratio = [[ [0 for col in range(n)] for col in range(n)] for row in range(n)]  "
   ]
  },
  {
   "cell_type": "code",
   "execution_count": 6,
   "metadata": {},
   "outputs": [],
   "source": [
    "import numpy\n",
    "from PIL import Image\n",
    "\n",
    "def get_image_pixels(image_path):\n",
    "    \"\"\"Get a numpy array of an image so that one can access values[x][y].\"\"\"\n",
    "    image = Image.open(image_path, \"r\")\n",
    "    width, height = image.size\n",
    "    pixel_values = list(image.getdata())\n",
    "    if image.mode == \"RGB\":\n",
    "        channels = 3\n",
    "    elif image.mode == \"L\":\n",
    "        channels = 1\n",
    "    else:\n",
    "        print(\"Unknown mode: %s\" % image.mode)\n",
    "        return None\n",
    "    pixel_values = numpy.array(pixel_values).reshape((width, height, channels))\n",
    "    return pixel_values\n",
    "\n",
    "def get_image_size(image_path):\n",
    "    image = Image.open(image_path, \"r\")\n",
    "    width, height = image.size\n",
    "    return width, height"
   ]
  },
  {
   "cell_type": "code",
   "execution_count": 7,
   "metadata": {},
   "outputs": [],
   "source": [
    "indices = [\"%04d\" % x for x in range(1000)]"
   ]
  },
  {
   "cell_type": "code",
   "execution_count": 11,
   "metadata": {},
   "outputs": [],
   "source": [
    "for image_index in range(555):\n",
    "  unmask_img_path = dataSetPath+\"/\"+str(indices[image_index])+\".jpg\"\n",
    "  mask_img_path = dataSetPath+\"/Mask/\"+str(indices[image_index])+\".bmp\"\n",
    "  \n",
    "  unmask_img = get_image_pixels(unmask_img_path)\n",
    "  mask_img = get_image_pixels(mask_img_path)\n",
    "  width, height = get_image_size(mask_img_path)\n",
    "\n",
    "  \n",
    "  for x in range(width):\n",
    "    for y in range(height):\n",
    "      r = mask_img[x][y][0]\n",
    "      g = mask_img[x][y][1]\n",
    "      b = mask_img[x][y][2]\n",
    "\n",
    "      if r>250 and g>250 and b>250:\n",
    "        r = unmask_img[x][y][0]\n",
    "        g = unmask_img[x][y][1]\n",
    "        b = unmask_img[x][y][2]\n",
    "        nonSkinPixel[r][g][b] = nonSkinPixel[r][g][b] + 1\n",
    "      else:\n",
    "        skinPixel[r][g][b] = skinPixel[r][g][b] + 1"
   ]
  },
  {
   "cell_type": "code",
   "execution_count": 12,
   "metadata": {},
   "outputs": [
    {
     "name": "stdout",
     "output_type": "stream",
     "text": [
      "200277000\n",
      "175502475\n"
     ]
    }
   ],
   "source": [
    "skinPixelSum = 0\n",
    "nonSkinPixelSum = 0\n",
    "\n",
    "for i in range(255):\n",
    "  for j in range(255):\n",
    "    skinPixelSum += sum(skinPixel[x][y])\n",
    "    nonSkinPixelSum += sum(nonSkinPixel[x][y])\n",
    "\n",
    "print(skinPixelSum)\n",
    "print(nonSkinPixelSum)"
   ]
  },
  {
   "cell_type": "code",
   "execution_count": 17,
   "metadata": {},
   "outputs": [],
   "source": [
    "T = 0.4\n",
    "test_image_path = dataSetPath+\"/0000.jpg\"\n",
    "test_image = get_image_pixels(test_image_path)\n",
    "width, heigth = get_image_size(test_image_path)\n",
    "\n",
    "for x in range(width):\n",
    "  for y in range(heigth):\n",
    "    r=test_image[x][y][0]\n",
    "    g=test_image[x][y][1]\n",
    "    b=test_image[x][y][2]\n",
    "\n",
    "    if abs(learning_ratio[r][g][b])<T:\n",
    "      test_image[x][y][0] = 255\n",
    "      test_image[x][y][1] = 255\n",
    "      test_image[x][y][2] = 255"
   ]
  },
  {
   "cell_type": "code",
   "execution_count": 18,
   "metadata": {},
   "outputs": [
    {
     "data": {
      "text/plain": [
       "<matplotlib.image.AxesImage at 0x7fa2d1919180>"
      ]
     },
     "execution_count": 18,
     "metadata": {},
     "output_type": "execute_result"
    },
    {
     "data": {
      "image/png": "[encoded data removed]",
      "text/plain": [
       "<Figure size 640x480 with 1 Axes>"
      ]
     },
     "metadata": {},
     "output_type": "display_data"
    }
   ],
   "source": [
    "import matplotlib.pyplot as plt\n",
    "plt.imshow(test_image)"
   ]
  }
 ],
 "metadata": {
  "kernelspec": {
   "display_name": "Python 3",
   "language": "python",
   "name": "python3"
  },
  "language_info": {
   "codemirror_mode": {
    "name": "ipython",
    "version": 3
   },
   "file_extension": ".py",
   "mimetype": "text/x-python",
   "name": "python",
   "nbconvert_exporter": "python",
   "pygments_lexer": "ipython3",
   "version": "3.10.6 (main, Nov 14 2022, 16:10:14) [GCC 11.3.0]"
  },
  "orig_nbformat": 4,
  "vscode": {
   "interpreter": {
    "hash": "e7370f93d1d0cde622a1f8e1c04877d8463912d04d973331ad4851f04de6915a"
   }
  }
 },
 "nbformat": 4,
 "nbformat_minor": 2
}
