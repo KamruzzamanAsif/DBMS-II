{
 "cells": [
  {
   "cell_type": "code",
   "execution_count": 26,
   "metadata": {},
   "outputs": [],
   "source": [
    "TP = []\n",
    "TN = []\n",
    "FP = []\n",
    "FN = []"
   ]
  },
  {
   "cell_type": "code",
   "execution_count": 27,
   "metadata": {},
   "outputs": [],
   "source": [
    "f = open('Outputs/TP.txt', 'r')\n",
    "lines = f.readlines()\n",
    "for line in lines:\n",
    "    TP.append(int(line))\n",
    "f.close()\n",
    "\n",
    "f = open('Outputs/FP.txt', 'r')\n",
    "lines = f.readlines()\n",
    "for line in lines:\n",
    "    FP.append(int(line))\n",
    "f.close()\n",
    "\n",
    "f = open('Outputs/FN.txt', 'r')\n",
    "lines = f.readlines()\n",
    "for line in lines:\n",
    "    FN.append(int(line))\n",
    "f.close()\n",
    "\n",
    "f = open('Outputs/TN.txt', 'r')\n",
    "lines = f.readlines()\n",
    "for line in lines:\n",
    "    TN.append(int(line))\n",
    "f.close()\n"
   ]
  },
  {
   "cell_type": "code",
   "execution_count": 28,
   "metadata": {},
   "outputs": [],
   "source": [
    "average_tp = sum(TP)/len(TP)\n",
    "average_fp = sum(FP)/len(FP)\n",
    "average_tn = sum(TN)/len(TN)\n",
    "average_fn = sum(FN)/len(FN)"
   ]
  },
  {
   "cell_type": "code",
   "execution_count": 29,
   "metadata": {},
   "outputs": [
    {
     "name": "stdout",
     "output_type": "stream",
     "text": [
      "true positive: 2223482.0\n",
      "true negative: 5832049.0\n",
      "false positive: 1615458.0\n",
      "false negative: 193262.0\n"
     ]
    }
   ],
   "source": [
    "print(\"true positive: \"+ str(average_tp))\n",
    "print(\"true negative: \"+ str(average_tn))\n",
    "print(\"false positive: \"+ str(average_fp))\n",
    "print(\"false negative: \"+ str(average_fn))"
   ]
  },
  {
   "cell_type": "code",
   "execution_count": 30,
   "metadata": {},
   "outputs": [
    {
     "name": "stdout",
     "output_type": "stream",
     "text": [
      "0.816638891285309\n"
     ]
    }
   ],
   "source": [
    "accuracy = (average_tp + average_tn) / (average_tp + average_fp + average_tn + average_fn)\n",
    "print(accuracy)"
   ]
  }
 ],
 "metadata": {
  "kernelspec": {
   "display_name": "Python 3",
   "language": "python",
   "name": "python3"
  },
  "language_info": {
   "codemirror_mode": {
    "name": "ipython",
    "version": 3
   },
   "file_extension": ".py",
   "mimetype": "text/x-python",
   "name": "python",
   "nbconvert_exporter": "python",
   "pygments_lexer": "ipython3",
   "version": "3.10.6"
  },
  "orig_nbformat": 4,
  "vscode": {
   "interpreter": {
    "hash": "e7370f93d1d0cde622a1f8e1c04877d8463912d04d973331ad4851f04de6915a"
   }
  }
 },
 "nbformat": 4,
 "nbformat_minor": 2
}
