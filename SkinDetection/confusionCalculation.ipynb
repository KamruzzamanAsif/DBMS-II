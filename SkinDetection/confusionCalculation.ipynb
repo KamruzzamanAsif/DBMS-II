{
 "cells": [
  {
   "cell_type": "code",
   "execution_count": 1,
   "metadata": {},
   "outputs": [],
   "source": [
    "from ast import literal_eval"
   ]
  },
  {
   "cell_type": "code",
   "execution_count": 17,
   "metadata": {},
   "outputs": [],
   "source": [
    "TP = []\n",
    "TN = []\n",
    "FP = []\n",
    "FN = []"
   ]
  },
  {
   "cell_type": "code",
   "execution_count": 18,
   "metadata": {},
   "outputs": [],
   "source": [
    "f = open('TP1.txt', 'r')\n",
    "lines = f.readlines()\n",
    "for line in lines:\n",
    "    TP.append(int(line))\n",
    "f.close()\n",
    "\n",
    "f = open('FP1.txt', 'r')\n",
    "lines = f.readlines()\n",
    "for line in lines:\n",
    "    FP.append(int(line))\n",
    "f.close()\n",
    "\n",
    "f = open('FN1.txt', 'r')\n",
    "lines = f.readlines()\n",
    "for line in lines:\n",
    "    FN.append(int(line))\n",
    "f.close()\n",
    "\n",
    "f = open('TN1.txt', 'r')\n",
    "lines = f.readlines()\n",
    "for line in lines:\n",
    "    TN.append(int(line))\n",
    "f.close()\n"
   ]
  },
  {
   "cell_type": "code",
   "execution_count": 19,
   "metadata": {},
   "outputs": [],
   "source": [
    "average_tp = sum(TP)/len(TP)\n",
    "average_fp = sum(FP)/len(FP)\n",
    "average_tn = sum(TN)/len(TN)\n",
    "average_fn = sum(FN)/len(FN)"
   ]
  },
  {
   "cell_type": "code",
   "execution_count": 20,
   "metadata": {},
   "outputs": [
    {
     "name": "stdout",
     "output_type": "stream",
     "text": [
      "true positive: 1537406.4\n",
      "true negative: 4863607.4\n",
      "false positive: 2082863.9\n",
      "false negative: 105367.0\n"
     ]
    }
   ],
   "source": [
    "print(\"true positive: \"+ str(average_tp))\n",
    "print(\"true negative: \"+ str(average_tn))\n",
    "print(\"false positive: \"+ str(average_fp))\n",
    "print(\"false negative: \"+ str(average_fn))"
   ]
  },
  {
   "cell_type": "code",
   "execution_count": 21,
   "metadata": {},
   "outputs": [
    {
     "name": "stdout",
     "output_type": "stream",
     "text": [
      "0.7452359344238966\n"
     ]
    }
   ],
   "source": [
    "accuracy = (average_tp + average_tn) / (average_tp + average_fp + average_tn + average_fn)\n",
    "print(accuracy)"
   ]
  }
 ],
 "metadata": {
  "kernelspec": {
   "display_name": "Python 3",
   "language": "python",
   "name": "python3"
  },
  "language_info": {
   "codemirror_mode": {
    "name": "ipython",
    "version": 3
   },
   "file_extension": ".py",
   "mimetype": "text/x-python",
   "name": "python",
   "nbconvert_exporter": "python",
   "pygments_lexer": "ipython3",
   "version": "3.8.10"
  },
  "orig_nbformat": 4,
  "vscode": {
   "interpreter": {
    "hash": "916dbcbb3f70747c44a77c7bcd40155683ae19c65e1c03b4aa3499c5328201f1"
   }
  }
 },
 "nbformat": 4,
 "nbformat_minor": 2
}
