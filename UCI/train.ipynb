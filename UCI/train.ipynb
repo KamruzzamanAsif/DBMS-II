{
 "cells": [
  {
   "cell_type": "code",
   "execution_count": 2,
   "metadata": {},
   "outputs": [],
   "source": [
    "import random\n",
    "import numpy as np \n",
    "import pandas as pd\n",
    "import matplotlib.pyplot as plt\n",
    "from sklearn.model_selection import train_test_split\n",
    "from sklearn.metrics import confusion_matrix, accuracy_score"
   ]
  },
  {
   "cell_type": "code",
   "execution_count": 3,
   "metadata": {},
   "outputs": [],
   "source": [
    "data = pd.read_csv('caesarian.csv')\n",
    "non_categorical=['Age']\n",
    "decision_column_name='Caesarian'\n",
    "count_of_yes_no=[]\n",
    "tables={}"
   ]
  },
  {
   "cell_type": "code",
   "execution_count": 4,
   "metadata": {},
   "outputs": [],
   "source": [
    "#All function\n",
    "def extract_feature():\n",
    "  return list(train.columns)[:-1]\n",
    "def find_unique(feature_column):\n",
    "  return sorted(feature_column.unique())\n",
    "def filter_column(data,column,filter_value):\n",
    "  return data[column==filter_value]\n",
    "def prior_probablity_calculation(decision_column):\n",
    "  classes=find_unique(decision_column)\n",
    "  prior_probablity=[]\n",
    "  for i in classes:\n",
    "    filtered_data=filter_column(train,decision_column,i)\n",
    "    count_of_yes_no.append(len(filtered_data))\n",
    "    prior_probablity.append(len(filtered_data)/len(train))\n",
    "  return prior_probablity\n",
    "def is_feature_categorical(feature_name):\n",
    "  for i in non_categorical:\n",
    "    if(feature_name==i):\n",
    "      return False\n",
    "  return True\n",
    "\n",
    "def table(feature_column,decision_column):\n",
    "  unique_attributes=find_unique(feature_column)\n",
    "  decision_values=find_unique(decision_column)\n",
    "  feat_table={}\n",
    "  for i in unique_attributes:\n",
    "    probablity_feature_data_with_decision=[]\n",
    "    feature_data=filter_column(train,feature_column,i)\n",
    "    for j in decision_values:\n",
    "      feature_data_with_decision=filter_column(feature_data,feature_data[decision_column_name],j)  \n",
    "      probablity_feature_data_with_decision.append(len(feature_data_with_decision)/count_of_yes_no[j])\n",
    "    probablity_feature_data_with_decision.append(len(feature_data))\n",
    "    feat_table[i]=probablity_feature_data_with_decision\n",
    "  return feat_table\n",
    "\n",
    "def calculate_probablity(feat_name,feat_value,decision_value,decision_column):\n",
    "  d=filter_column(train,decision_column,decision_value)\n",
    "  mean,std=d[feat_name].mean(),d[feat_name].std()\n",
    "  return (1 / (np.sqrt(2 * np.pi) * std)) *  np.exp(-((feat_value-mean)**2 / (2 * std**2 )))\n",
    "\n",
    "def naive_bayes(train,test_values,decision_column):\n",
    "  features=extract_feature()\n",
    "  prior=prior_probablity_calculation(decision_column)\n",
    "  for feature_name in features:\n",
    "    if(is_feature_categorical(feature_name)):\n",
    "      tables[feature_name]=table(train[feature_name],decision_column)\n",
    "      \n",
    "  Y_pred=[]\n",
    "  for test_value in test_values:\n",
    "    prob_feat_given_decision=[1]*len(prior)\n",
    "    post_prob=[1]*len(prior)\n",
    "    for i in range(len(prior)):\n",
    "      for j in range(len(features)):\n",
    "        if(is_feature_categorical(features[j])):\n",
    "          if(tables[features[j]].get(test_value[j])!=None):\n",
    "            prob_feat_given_decision[i] *=(tables[features[j]][test_value[j]][i])\n",
    "          else:\n",
    "            prob_feat_given_decision[i] *=0 \n",
    "        else:\n",
    "          prob_feat_given_decision[i] *=calculate_probablity(features[j],test_value[j],i,decision_column)\n",
    "      post_prob[i]=prob_feat_given_decision[i]*prior[i]\n",
    "    Y_pred.append(np.argmax(post_prob))\n",
    "  return Y_pred"
   ]
  },
  {
   "cell_type": "code",
   "execution_count": 5,
   "metadata": {},
   "outputs": [
    {
     "name": "stdout",
     "output_type": "stream",
     "text": [
      "[[4 1]\n",
      " [3 8]]\n",
      "0.75\n"
     ]
    }
   ],
   "source": [
    "train, test = train_test_split(data, test_size=.20, random_state=10)\n",
    "X_test=test.iloc[:,:-1].values\n",
    "Y_actual=test.iloc[:,-1].values\n",
    "Y_pred=naive_bayes(train,test_values=X_test,decision_column=train[decision_column_name])\n",
    "\n",
    "\n",
    "print(confusion_matrix(Y_actual, Y_pred))\n",
    "print(accuracy_score(Y_actual, Y_pred))"
   ]
  }
 ],
 "metadata": {
  "kernelspec": {
   "display_name": "Python 3",
   "language": "python",
   "name": "python3"
  },
  "language_info": {
   "codemirror_mode": {
    "name": "ipython",
    "version": 3
   },
   "file_extension": ".py",
   "mimetype": "text/x-python",
   "name": "python",
   "nbconvert_exporter": "python",
   "pygments_lexer": "ipython3",
   "version": "3.8.10 (default, Nov 14 2022, 12:59:47) \n[GCC 9.4.0]"
  },
  "orig_nbformat": 4,
  "vscode": {
   "interpreter": {
    "hash": "e7370f93d1d0cde622a1f8e1c04877d8463912d04d973331ad4851f04de6915a"
   }
  }
 },
 "nbformat": 4,
 "nbformat_minor": 2
}
