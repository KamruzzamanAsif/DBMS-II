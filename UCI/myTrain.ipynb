{
 "cells": [
  {
   "cell_type": "code",
   "execution_count": 10,
   "metadata": {},
   "outputs": [],
   "source": [
    "import numpy as np \n",
    "import pandas as pd\n",
    "from sklearn.model_selection import train_test_split\n",
    "from sklearn.metrics import confusion_matrix, accuracy_score"
   ]
  },
  {
   "cell_type": "code",
   "execution_count": 11,
   "metadata": {},
   "outputs": [],
   "source": [
    "data = pd.read_csv('caesarian.csv')\n",
    "non_categorical=['Age']\n",
    "decision_column_name='Caesarian'\n",
    "count_of_yes_no=[]\n",
    "tables={}"
   ]
  },
  {
   "cell_type": "code",
   "execution_count": 12,
   "metadata": {},
   "outputs": [
    {
     "name": "stdout",
     "output_type": "stream",
     "text": [
      "    Age  Delivery  Delivery1  Blood  Heart  Caesarian\n",
      "41   19         1          0      1      0          1\n",
      "46   26         1          0      1      0          0\n",
      "26   18         1          1      2      1          1\n",
      "32   32         2          0      2      1          1\n",
      "35   28         3          0      2      0          1\n",
      "65   35         2          0      1      0          1\n",
      "21   33         2          0      0      1          1\n",
      "3    28         1          0      2      0          0\n",
      "37   31         2          2      1      0          0\n",
      "19   24         1          2      0      1          1\n",
      "44   36         4          0      2      1          1\n",
      "34   26         2          2      1      0          1\n",
      "43   22         1          0      1      0          1\n",
      "74   38         3          2      2      1          1\n",
      "2    26         2          1      1      0          0\n",
      "6    27         2          0      1      0          0\n"
     ]
    }
   ],
   "source": [
    "train, test = train_test_split(data, test_size=.20, random_state=10)\n",
    "print(test)"
   ]
  },
  {
   "cell_type": "code",
   "execution_count": 13,
   "metadata": {},
   "outputs": [],
   "source": [
    "# X_of_test=test.iloc[:,:-1].values  # X > features\n",
    "# Y_actual_of_test=test.iloc[:,-1].values   # Y > decision column \n",
    "# Y_actual_of_train = train[decision_column_name]\n",
    "# print(X_of_test)"
   ]
  },
  {
   "cell_type": "code",
   "execution_count": 14,
   "metadata": {},
   "outputs": [],
   "source": [
    "# All support functions\n",
    "def extract_features():\n",
    "  return list(train.columns)[:-1]\n",
    "\n",
    "def find_unique(Y_actual_of_train):\n",
    "  return sorted(Y_actual_of_train.unique())\n",
    "\n",
    "def filter_column(data,column,filter_value):\n",
    "  return data[column==filter_value]\n",
    "\n",
    "def prior_probability_calculator(Y_actual_of_train):\n",
    "  classes = find_unique(Y_actual_of_train)\n",
    "  prior_probabilities = []\n",
    "  for c in classes:\n",
    "    filtered_data = filter_column(train, Y_actual_of_train, c)\n",
    "    count_of_yes_no.append(len(filtered_data))\n",
    "    prior_probabilities.append(len(filtered_data)/len(train))\n",
    "  return prior_probabilities\n",
    "\n",
    "def is_feature_categorical(feature_name):\n",
    "  for i in non_categorical:\n",
    "    if(feature_name==i):\n",
    "      return False\n",
    "  return True\n",
    "\n",
    "\n",
    "def make_table(feature_column, decision_column):\n",
    "  unique_attributes=find_unique(feature_column)\n",
    "  decision_values=find_unique(decision_column)\n",
    "  feat_table={}\n",
    "  for i in unique_attributes:\n",
    "    probablity_feature_data_with_decision=[]\n",
    "    feature_data=filter_column(train,feature_column,i)\n",
    "    for j in decision_values:\n",
    "      feature_data_with_decision=filter_column(feature_data,feature_data[decision_column_name],j)  \n",
    "      probablity_feature_data_with_decision.append(len(feature_data_with_decision)/count_of_yes_no[j])\n",
    "    probablity_feature_data_with_decision.append(len(feature_data))\n",
    "    feat_table[i]=probablity_feature_data_with_decision\n",
    "  return feat_table\n",
    "\n",
    "def calculate_probablity(feat_name,feat_value,decision_value,decision_column):\n",
    "  d=filter_column(train,decision_column,decision_value)\n",
    "  mean,std=d[feat_name].mean(),d[feat_name].std()\n",
    "  return (1 / (np.sqrt(2 * np.pi) * std)) *  np.exp(-((feat_value-mean)**2 / (2 * std**2 )))"
   ]
  },
  {
   "cell_type": "code",
   "execution_count": 15,
   "metadata": {},
   "outputs": [],
   "source": [
    "def naiveBayes(train, test_features, Y_actual_of_train):\n",
    "    X_of_train = extract_features()\n",
    "    prior_probabilities = prior_probability_calculator(Y_actual_of_train)\n",
    "    for feature_name in X_of_train:\n",
    "        if is_feature_categorical(feature_name):\n",
    "            tables[feature_name] = make_table(train[feature_name], Y_actual_of_train)\n",
    "    \n",
    "    Y_pred_of_train = []\n",
    "    for test_feature in test_features:\n",
    "        probability_of_feature_given_decision = [1]*len(prior_probabilities)\n",
    "        posterior_probabilities = [1]*len(prior_probabilities)\n",
    "        for i in range(len(prior_probabilities)):\n",
    "            for j in range(len(X_of_train)):\n",
    "                if(is_feature_categorical(X_of_train[j])):\n",
    "                    if(tables[X_of_train[j]].get(test_feature[j]) != None):\n",
    "                        probability_of_feature_given_decision[i] *=(tables[X_of_train[j]][test_feature[j]][i])\n",
    "                    else:\n",
    "                        probability_of_feature_given_decision[i] *=0 \n",
    "                else:\n",
    "                    probability_of_feature_given_decision[i] *=calculate_probablity(X_of_train[j],test_feature[j],i,Y_actual_of_train)\n",
    "            posterior_probabilities[i]=probability_of_feature_given_decision[i]*prior_probabilities[i]\n",
    "        Y_pred_of_train.append(np.argmax(posterior_probabilities))\n",
    "    return Y_pred_of_train "
   ]
  },
  {
   "cell_type": "code",
   "execution_count": 16,
   "metadata": {},
   "outputs": [
    {
     "name": "stdout",
     "output_type": "stream",
     "text": [
      "0.75\n"
     ]
    }
   ],
   "source": [
    "X_of_test=test.iloc[:,:-1].values  # X > features\n",
    "Y_actual_of_test=test.iloc[:,-1].values   # Y > decision column \n",
    "Y_actual_of_train = train[decision_column_name]\n",
    "\n",
    "Y_pred_of_train=naiveBayes(train, X_of_test, Y_actual_of_train)\n",
    "\n",
    "# print(Y_actual_of_test, Y_pred_of_train)\n",
    "# print(confusion_matrix(Y_actual_of_test, Y_pred_of_train))\n",
    "\n",
    "print(accuracy_score(Y_actual_of_test, Y_pred_of_train))"
   ]
  },
  {
   "cell_type": "code",
   "execution_count": 17,
   "metadata": {},
   "outputs": [
    {
     "name": "stdout",
     "output_type": "stream",
     "text": [
      "\n",
      "Confusion Matrix:\n",
      "true positive: 8\n",
      "false negative: 3\n",
      "false positive: 1\n",
      "true negative: 4\n",
      "\n",
      "Accuracy: 0.75\n"
     ]
    }
   ],
   "source": [
    "TP = 0\n",
    "FP = 0\n",
    "FN = 0\n",
    "TN = 0\n",
    "# 1 positive && 0 negative\n",
    "for i in range(len(Y_actual_of_test)):\n",
    "    if(Y_actual_of_test[i] == 1 and Y_pred_of_train[i] == 1):\n",
    "        TP += 1\n",
    "    elif(Y_actual_of_train[i] == 1 and Y_pred_of_train[i] == 0):\n",
    "        FN += 1\n",
    "    elif(Y_actual_of_test[i] == 0 and Y_pred_of_train[i]== 1):\n",
    "        FP += 1\n",
    "    elif(Y_actual_of_train[i] == 0 and Y_pred_of_train[i] == 0):\n",
    "        TN += 1\n",
    "\n",
    "\n",
    "print(\"\\nConfusion Matrix:\" + \"\\ntrue positive: \"+str(TP) + \"\\nfalse negative: \"+str(FN) \n",
    "      + \"\\nfalse positive: \"+str(FP) + \"\\ntrue negative: \"+str(TN) )\n",
    "\n",
    "print(\"\\nAccuracy: \" + str((TP+TN)/(TP+FN+FP+TN))) "
   ]
  }
 ],
 "metadata": {
  "kernelspec": {
   "display_name": "Python 3",
   "language": "python",
   "name": "python3"
  },
  "language_info": {
   "codemirror_mode": {
    "name": "ipython",
    "version": 3
   },
   "file_extension": ".py",
   "mimetype": "text/x-python",
   "name": "python",
   "nbconvert_exporter": "python",
   "pygments_lexer": "ipython3",
   "version": "3.10.6"
  },
  "orig_nbformat": 4,
  "vscode": {
   "interpreter": {
    "hash": "e7370f93d1d0cde622a1f8e1c04877d8463912d04d973331ad4851f04de6915a"
   }
  }
 },
 "nbformat": 4,
 "nbformat_minor": 2
}
