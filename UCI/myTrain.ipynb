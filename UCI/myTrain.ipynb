{
 "cells": [
  {
   "cell_type": "code",
   "execution_count": 5,
   "metadata": {},
   "outputs": [],
   "source": [
    "import numpy as np \n",
    "import pandas as pd\n",
    "from sklearn.model_selection import train_test_split\n",
    "from sklearn.metrics import confusion_matrix, accuracy_score"
   ]
  },
  {
   "cell_type": "code",
   "execution_count": 2,
   "metadata": {},
   "outputs": [],
   "source": [
    "data = pd.read_csv('caesarian.csv')\n",
    "non_categorical=['Age']\n",
    "decision_column_name='Caesarian'\n",
    "count_of_yes_no=[]\n",
    "tables={}"
   ]
  },
  {
   "cell_type": "code",
   "execution_count": 9,
   "metadata": {},
   "outputs": [
    {
     "name": "stdout",
     "output_type": "stream",
     "text": [
      "    Age  Delivery  Delivery1  Blood  Heart  Caesarian\n",
      "41   19         1          0      1      0          1\n",
      "46   26         1          0      1      0          0\n",
      "26   18         1          1      2      1          1\n",
      "32   32         2          0      2      1          1\n",
      "35   28         3          0      2      0          1\n",
      "65   35         2          0      1      0          1\n",
      "21   33         2          0      0      1          1\n",
      "3    28         1          0      2      0          0\n",
      "37   31         2          2      1      0          0\n",
      "19   24         1          2      0      1          1\n",
      "44   36         4          0      2      1          1\n",
      "34   26         2          2      1      0          1\n",
      "43   22         1          0      1      0          1\n",
      "74   38         3          2      2      1          1\n",
      "2    26         2          1      1      0          0\n",
      "6    27         2          0      1      0          0\n"
     ]
    }
   ],
   "source": [
    "train, test = train_test_split(data, test_size=.20, random_state=10)\n",
    "print(test)"
   ]
  },
  {
   "cell_type": "code",
   "execution_count": 18,
   "metadata": {},
   "outputs": [],
   "source": [
    "X_of_test=test.iloc[:,:-1].values  # X > features\n",
    "Y_actual_of_test=test.iloc[:,-1].values   # Y > decision column \n",
    "Y_actual_of_train = train[decision_column_name]"
   ]
  },
  {
   "cell_type": "code",
   "execution_count": 20,
   "metadata": {},
   "outputs": [],
   "source": [
    "# All support functions\n",
    "def extract_features():\n",
    "  return list(train.columns)[:-1]\n",
    "\n",
    "def findUniqueClasses(Y_actual_of_train):\n",
    "  return sorted(Y_actual_of_train.unique())\n",
    "\n",
    "def filter_column(Y_actual_of_train, filter_value):\n",
    "  return train[Y_actual_of_train == filter_value]\n",
    "\n",
    "def prior_probability_calculator(Y_actual_of_train):\n",
    "  classes = findUniqueClasses(Y_actual_of_train)\n",
    "  prior_probabilities = []\n",
    "  for c in classes:\n",
    "    filtered_data = filter_column(Y_actual_of_train, c)\n",
    "    prior_probabilities.append(len(filtered_data)/len(train))\n",
    "  return prior_probabilities"
   ]
  },
  {
   "cell_type": "code",
   "execution_count": null,
   "metadata": {},
   "outputs": [],
   "source": [
    "def naiveBayes(train, test_features, Y_actual_of_train):\n",
    "    X_of_train = extract_features()\n",
    "    prior_probabilities = prior_probability_calculator(Y_actual_of_train)\n",
    "    "
   ]
  },
  {
   "cell_type": "code",
   "execution_count": null,
   "metadata": {},
   "outputs": [],
   "source": []
  }
 ],
 "metadata": {
  "kernelspec": {
   "display_name": "Python 3",
   "language": "python",
   "name": "python3"
  },
  "language_info": {
   "codemirror_mode": {
    "name": "ipython",
    "version": 3
   },
   "file_extension": ".py",
   "mimetype": "text/x-python",
   "name": "python",
   "nbconvert_exporter": "python",
   "pygments_lexer": "ipython3",
   "version": "3.10.6"
  },
  "orig_nbformat": 4,
  "vscode": {
   "interpreter": {
    "hash": "e7370f93d1d0cde622a1f8e1c04877d8463912d04d973331ad4851f04de6915a"
   }
  }
 },
 "nbformat": 4,
 "nbformat_minor": 2
}
