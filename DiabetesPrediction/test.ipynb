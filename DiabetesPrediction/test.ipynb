{
 "cells": [
  {
   "cell_type": "code",
   "execution_count": 9,
   "metadata": {},
   "outputs": [],
   "source": [
    "import json\n",
    "import ast \n",
    "import pickle "
   ]
  },
  {
   "cell_type": "code",
   "execution_count": 6,
   "metadata": {},
   "outputs": [],
   "source": [
    "prob_pregnancies_Diabetes = {}\n",
    "prob_glucose_Diabetes = {}\n",
    "prob_bloodPressure_Diabetes = {}\n",
    "prob_skinThickness_Diabetes = {}\n",
    "prob_insulin_Diabetes = {}\n",
    "prob_bmi_Diabetes = {}\n",
    "prob_diabetesPedigreeFunction_Diabetes = {}\n",
    "prob_age_Diabetes = {}"
   ]
  },
  {
   "cell_type": "code",
   "execution_count": 12,
   "metadata": {},
   "outputs": [
    {
     "ename": "UnpicklingError",
     "evalue": "invalid load key, '6'.",
     "output_type": "error",
     "traceback": [
      "\u001b[0;31m---------------------------------------------------------------------------\u001b[0m",
      "\u001b[0;31mUnpicklingError\u001b[0m                           Traceback (most recent call last)",
      "Cell \u001b[0;32mIn[12], line 5\u001b[0m\n\u001b[1;32m      3\u001b[0m \u001b[39mwith\u001b[39;00m \u001b[39mopen\u001b[39m(\u001b[39m'\u001b[39m\u001b[39m/home/asif/DBMS-II/DiabetesPrediction/trainedData/prob_pregnancies_Diabetes.txt\u001b[39m\u001b[39m'\u001b[39m, \u001b[39m'\u001b[39m\u001b[39mrb\u001b[39m\u001b[39m'\u001b[39m) \u001b[39mas\u001b[39;00m f: \n\u001b[1;32m      4\u001b[0m     data \u001b[39m=\u001b[39m f\u001b[39m.\u001b[39mread()\n\u001b[0;32m----> 5\u001b[0m prob_pregnancies_Diabetes \u001b[39m=\u001b[39m pickle\u001b[39m.\u001b[39;49mloads(data)\n\u001b[1;32m      7\u001b[0m \u001b[39m# # prob_glucose_Diabetes\u001b[39;00m\n\u001b[1;32m      8\u001b[0m \u001b[39m# with open('/home/asif/DBMS-II/DiabetesPrediction/trainedData/prob_glucose_Diabetes.txt') as f: \u001b[39;00m\n\u001b[1;32m      9\u001b[0m \u001b[39m#     data = f.read()\u001b[39;00m\n\u001b[0;32m   (...)\u001b[0m\n\u001b[1;32m     19\u001b[0m \u001b[39m#     data = f.read()\u001b[39;00m\n\u001b[1;32m     20\u001b[0m \u001b[39m# prob_skinThickness_Diabetes = ast.literal_eval(data)\u001b[39;00m\n\u001b[1;32m     22\u001b[0m \u001b[39mprint\u001b[39m(prob_skinThickness_Diabetes)\n",
      "\u001b[0;31mUnpicklingError\u001b[0m: invalid load key, '6'."
     ]
    }
   ],
   "source": [
    "#read the probabilities\n",
    "# prob_pregnancies_Diabetes\n",
    "with open('/home/asif/DBMS-II/DiabetesPrediction/trainedData/prob_pregnancies_Diabetes.txt', 'rb') as f: \n",
    "    data = f.read()\n",
    "prob_pregnancies_Diabetes = ast.literal_eval(data)\n",
    "\n",
    "# # prob_glucose_Diabetes\n",
    "# with open('/home/asif/DBMS-II/DiabetesPrediction/trainedData/prob_glucose_Diabetes.txt') as f: \n",
    "#     data = f.read()\n",
    "# prob_glucose_Diabetes = ast.literal_eval(data)\n",
    "\n",
    "# # prob_bloodPressure_Diabetes\n",
    "# with open('/home/asif/DBMS-II/DiabetesPrediction/trainedData/prob_bloodPressure_Diabetes.txt') as f: \n",
    "#     data = f.read()\n",
    "# prob_bloodPressure_Diabetes = ast.literal_eval(data)\n",
    "\n",
    "# # prob_skinThickness_Diabetes\n",
    "# with open('/home/asif/DBMS-II/DiabetesPrediction/trainedData/prob_skinThickness_Diabetes.txt') as f: \n",
    "#     data = f.read()\n",
    "# prob_skinThickness_Diabetes = ast.literal_eval(data)\n",
    "\n",
    "print(prob_skinThickness_Diabetes)"
   ]
  },
  {
   "cell_type": "code",
   "execution_count": null,
   "metadata": {},
   "outputs": [],
   "source": [
    "prob_pregnancies_NoDiabetes = {}\n",
    "prob_glucose_NoDiabetes = {}\n",
    "prob_bloodPressure_NoDiabetes = {}\n",
    "prob_skinThickness_NoDiabetes = {}\n",
    "prob_insulin_NoDiabetes = {}\n",
    "prob_bmi_NoDiabetes = {}\n",
    "prob_diabetesPedigreeFunction_NoDiabetes = {}\n",
    "prob_age_NoDiabetes = {}"
   ]
  }
 ],
 "metadata": {
  "kernelspec": {
   "display_name": "Python 3",
   "language": "python",
   "name": "python3"
  },
  "language_info": {
   "codemirror_mode": {
    "name": "ipython",
    "version": 3
   },
   "file_extension": ".py",
   "mimetype": "text/x-python",
   "name": "python",
   "nbconvert_exporter": "python",
   "pygments_lexer": "ipython3",
   "version": "3.8.10"
  },
  "orig_nbformat": 4,
  "vscode": {
   "interpreter": {
    "hash": "916dbcbb3f70747c44a77c7bcd40155683ae19c65e1c03b4aa3499c5328201f1"
   }
  }
 },
 "nbformat": 4,
 "nbformat_minor": 2
}
